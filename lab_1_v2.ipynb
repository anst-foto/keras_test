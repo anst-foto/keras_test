{
  "nbformat": 4,
  "nbformat_minor": 0,
  "metadata": {
    "colab": {
      "provenance": [],
      "authorship_tag": "ABX9TyNJCdvqB7q/mcfJB6AUfZwX",
      "include_colab_link": true
    },
    "kernelspec": {
      "name": "python3",
      "display_name": "Python 3"
    },
    "language_info": {
      "name": "python"
    }
  },
  "cells": [
    {
      "cell_type": "markdown",
      "metadata": {
        "id": "view-in-github",
        "colab_type": "text"
      },
      "source": [
        "<a href=\"https://colab.research.google.com/github/anst-foto/keras_test/blob/main/lab_1_v2.ipynb\" target=\"_parent\"><img src=\"https://colab.research.google.com/assets/colab-badge.svg\" alt=\"Open In Colab\"/></a>"
      ]
    },
    {
      "cell_type": "code",
      "execution_count": 6,
      "metadata": {
        "colab": {
          "base_uri": "https://localhost:8080/",
          "height": 625
        },
        "id": "WoZxbg3vZq0B",
        "outputId": "246f006e-5c8d-419b-fbd4-606a101fff94"
      },
      "outputs": [
        {
          "output_type": "display_data",
          "data": {
            "text/plain": [
              "<Figure size 432x288 with 1 Axes>"
            ],
            "image/png": "[encoded data removed]"
          },
          "metadata": {
            "needs_background": "light"
          }
        },
        {
          "output_type": "stream",
          "name": "stderr",
          "text": [
            "WARNING:tensorflow:6 out of the last 6 calls to <function Model.make_predict_function.<locals>.predict_function at 0x7f984c44e040> triggered tf.function retracing. Tracing is expensive and the excessive number of tracings could be due to (1) creating @tf.function repeatedly in a loop, (2) passing tensors with different shapes, (3) passing Python objects instead of tensors. For (1), please define your @tf.function outside of the loop. For (2), @tf.function has reduce_retracing=True option that can avoid unnecessary retracing. For (3), please refer to https://www.tensorflow.org/guide/function#controlling_retracing and https://www.tensorflow.org/api_docs/python/tf/function for  more details.\n"
          ]
        },
        {
          "output_type": "stream",
          "name": "stdout",
          "text": [
            "1/1 [==============================] - 0s 69ms/step\n"
          ]
        },
        {
          "output_type": "display_data",
          "data": {
            "text/plain": [
              "<Figure size 432x288 with 1 Axes>"
            ],
            "image/png": "[encoded data removed]"
          },
          "metadata": {
            "needs_background": "light"
          }
        },
        {
          "output_type": "stream",
          "name": "stdout",
          "text": [
            "[array([[2.9999998]], dtype=float32), array([5.000002], dtype=float32)]\n",
            "1/1 [==============================] - 0s 51ms/step\n",
            "[[304.99997]]\n"
          ]
        }
      ],
      "source": [
        "import numpy as np\n",
        "import matplotlib.pyplot as plt\n",
        "from tensorflow import keras\n",
        "from tensorflow.keras.layers import Dense\n",
        "\n",
        "x = np.array([1, 2, 3, 0, -1, -2, -3])\n",
        "\n",
        "def f(x):    \n",
        "    return 3 * x + 5\n",
        "\n",
        "\n",
        "f = np.vectorize(f)\n",
        "y = f(x)\n",
        "\n",
        "model = keras.Sequential()\n",
        "model.add(Dense(units=1, input_shape=(1,), activation='linear'))\n",
        "\n",
        "model.compile(loss='mean_squared_error', optimizer=keras.optimizers.Adam(0.1))\n",
        "\n",
        "log = model.fit(x, y, epochs=500, verbose=False)\n",
        "\n",
        "plt.plot(log.history['loss'])\n",
        "plt.grid(True)\n",
        "plt.show()\n",
        "\n",
        "plt.scatter(x, y, color='black', antialiased=True)\n",
        "plt.plot(x, model.predict(x), color='magenta', linewidth=2, antialiased=True)\n",
        "plt.show()\n",
        "\n",
        "for layer in model.layers:\n",
        "    weights = layer.get_weights()\n",
        "    print(weights)\n",
        "\n",
        "print(model.predict([100]))"
      ]
    }
  ]
}