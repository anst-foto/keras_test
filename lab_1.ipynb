{
  "nbformat": 4,
  "nbformat_minor": 0,
  "metadata": {
    "colab": {
      "provenance": [],
      "authorship_tag": "ABX9TyPE7kjWPNqfKk2WqIYTDC7l",
      "include_colab_link": true
    },
    "kernelspec": {
      "name": "python3",
      "display_name": "Python 3"
    },
    "language_info": {
      "name": "python"
    }
  },
  "cells": [
    {
      "cell_type": "markdown",
      "metadata": {
        "id": "view-in-github",
        "colab_type": "text"
      },
      "source": [
        "<a href=\"https://colab.research.google.com/github/anst-foto/keras_test/blob/main/lab_1.ipynb\" target=\"_parent\"><img src=\"https://colab.research.google.com/assets/colab-badge.svg\" alt=\"Open In Colab\"/></a>"
      ]
    },
    {
      "cell_type": "code",
      "execution_count": 7,
      "metadata": {
        "colab": {
          "base_uri": "https://localhost:8080/",
          "height": 302
        },
        "id": "WoZxbg3vZq0B",
        "outputId": "a62aac73-1f4c-43aa-9d7e-843862e7aeba"
      },
      "outputs": [
        {
          "output_type": "stream",
          "name": "stdout",
          "text": [
            "1/1 [==============================] - 0s 68ms/step\n"
          ]
        },
        {
          "output_type": "display_data",
          "data": {
            "text/plain": [
              "<Figure size 432x288 with 1 Axes>"
            ],
            "image/png": "[encoded data removed]"
          },
          "metadata": {
            "needs_background": "light"
          }
        },
        {
          "output_type": "stream",
          "name": "stdout",
          "text": [
            "[array([[3.]], dtype=float32), array([4.3369026], dtype=float32)]\n"
          ]
        }
      ],
      "source": [
        "import numpy as np\n",
        "import matplotlib.pyplot as plt\n",
        "\n",
        "from keras.models import Sequential\n",
        "from keras.layers import Dense\n",
        "\n",
        "x = np.array([1, -1, 0, 10, -10, 0.5, -0.5])\n",
        "\n",
        "def f(x):    \n",
        "    return 3 * x + 5\n",
        "\n",
        "f = np.vectorize(f)\n",
        "\n",
        "# вычисляем вектор значений функции\n",
        "y = f(x)\n",
        "\n",
        "def baseline_model():\n",
        "    model = Sequential()\n",
        "    model.add(Dense(1, input_dim=1, activation='linear'))\n",
        "    model.compile(loss='mean_squared_error', optimizer='sgd')\n",
        "    return model\n",
        "\n",
        "\n",
        "model = baseline_model()\n",
        "log = model.fit(x, y, epochs=100, verbose=False)\n",
        "\n",
        "plt.scatter(x, y, color='black', antialiased=True)\n",
        "plt.plot(x, model.predict(x), color='magenta', linewidth=2, antialiased=True)\n",
        "plt.show()\n",
        "\n",
        "for layer in model.layers:\n",
        "    weights = layer.get_weights()\n",
        "    print(weights)\n"
      ]
    }
  ]
}